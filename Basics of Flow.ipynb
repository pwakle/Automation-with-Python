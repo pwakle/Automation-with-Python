{
 "cells": [
  {
   "cell_type": "code",
   "execution_count": 6,
   "id": "1f5b64d2",
   "metadata": {},
   "outputs": [
    {
     "name": "stdout",
     "output_type": "stream",
     "text": [
      "Hello, world!\n",
      "What is your name?\n",
      "pravs\n",
      "It is good to meet you, pravs\n",
      "The length of your name is:\n",
      "5\n",
      "What is your age?\n",
      "10\n",
      "You will be 11 in a year.\n"
     ]
    }
   ],
   "source": [
    " # This program says hello and asks for my name\n",
    "    \n",
    "print('Hello, world!')\n",
    "print('What is your name?')    # ask for their name\n",
    "myName = input()\n",
    "print('It is good to meet you, ' + myName)\n",
    "print('The length of your name is:')\n",
    "print(len(myName))\n",
    "print('What is your age?')    # ask for their age\n",
    "myAge = input()\n",
    "print('You will be ' + str(int(myAge) + 1) + ' in a year.')"
   ]
  },
  {
   "cell_type": "code",
   "execution_count": 9,
   "id": "ee73bd5b",
   "metadata": {},
   "outputs": [
    {
     "name": "stdout",
     "output_type": "stream",
     "text": [
      "andy\n"
     ]
    }
   ],
   "source": [
    "#How to enter the name\n",
    "myname= input()"
   ]
  },
  {
   "cell_type": "code",
   "execution_count": 10,
   "id": "f3679552",
   "metadata": {},
   "outputs": [
    {
     "name": "stdout",
     "output_type": "stream",
     "text": [
      "newandy\n"
     ]
    }
   ],
   "source": [
    "#How to ask any person to enter his name\n",
    "myname=input()"
   ]
  },
  {
   "cell_type": "code",
   "execution_count": 11,
   "id": "6afcbc07",
   "metadata": {},
   "outputs": [
    {
     "name": "stdout",
     "output_type": "stream",
     "text": [
      "10\n"
     ]
    }
   ],
   "source": [
    "#how to ask person to enter his age\n",
    "myage=input()"
   ]
  },
  {
   "cell_type": "code",
   "execution_count": 12,
   "id": "166c7378",
   "metadata": {},
   "outputs": [
    {
     "name": "stdout",
     "output_type": "stream",
     "text": [
      "2\n"
     ]
    }
   ],
   "source": [
    "#How to print length of person age\n",
    "print(len(myage))"
   ]
  },
  {
   "cell_type": "code",
   "execution_count": 13,
   "id": "1c5375f4",
   "metadata": {
    "scrolled": true
   },
   "outputs": [
    {
     "name": "stdout",
     "output_type": "stream",
     "text": [
      "7\n"
     ]
    }
   ],
   "source": [
    "#How to print the name of person\n",
    "print(len(myname))"
   ]
  },
  {
   "cell_type": "code",
   "execution_count": 14,
   "id": "a6350f8b",
   "metadata": {},
   "outputs": [
    {
     "data": {
      "text/plain": [
       "11"
      ]
     },
     "execution_count": 14,
     "metadata": {},
     "output_type": "execute_result"
    }
   ],
   "source": [
    "#How to print the inrement of the age\n",
    "int(myage)+1"
   ]
  },
  {
   "cell_type": "code",
   "execution_count": 19,
   "id": "604ebdfa",
   "metadata": {},
   "outputs": [
    {
     "name": "stdout",
     "output_type": "stream",
     "text": [
      "I am 29 years old.\n"
     ]
    }
   ],
   "source": [
    " print('I am ' +str(29)+ ' years old.')"
   ]
  },
  {
   "cell_type": "code",
   "execution_count": null,
   "id": "84ed21af",
   "metadata": {},
   "outputs": [],
   "source": []
  }
 ],
 "metadata": {
  "kernelspec": {
   "display_name": "Python 3 (ipykernel)",
   "language": "python",
   "name": "python3"
  },
  "language_info": {
   "codemirror_mode": {
    "name": "ipython",
    "version": 3
   },
   "file_extension": ".py",
   "mimetype": "text/x-python",
   "name": "python",
   "nbconvert_exporter": "python",
   "pygments_lexer": "ipython3",
   "version": "3.10.9"
  }
 },
 "nbformat": 4,
 "nbformat_minor": 5
}
